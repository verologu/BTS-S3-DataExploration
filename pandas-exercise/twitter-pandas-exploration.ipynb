{
 "cells": [
  {
   "cell_type": "markdown",
   "metadata": {},
   "source": [
    "## Pandas exercise"
   ]
  },
  {
   "cell_type": "code",
   "execution_count": 1,
   "metadata": {
    "collapsed": false
   },
   "outputs": [],
   "source": [
    "# import some useful libraries\n",
    "import pandas as pd\n",
    "import numpy as np"
   ]
  },
  {
   "cell_type": "code",
   "execution_count": 2,
   "metadata": {
    "collapsed": true
   },
   "outputs": [],
   "source": [
    "import warnings\n",
    "warnings.filterwarnings(\"ignore\") \n",
    "pd.set_option('display.max_columns', 30)\n",
    "pd.set_option('display.width', 200)\n",
    "pd.set_option('display.max_colwidth', 100)"
   ]
  },
  {
   "cell_type": "code",
   "execution_count": 3,
   "metadata": {
    "collapsed": false,
    "scrolled": true
   },
   "outputs": [],
   "source": [
    "# load the tsv file into a dataframe\n",
    "data_path = '/Users/verologu/Developer/MasterBTS/big_data/DataExploration/insert-data/twitter-vine-clean.tsv.bz2'\n",
    "df = pd.read_csv(data_path, low_memory=False, sep='\\t', compression='bz2')"
   ]
  },
  {
   "cell_type": "code",
   "execution_count": 4,
   "metadata": {
    "collapsed": false,
    "scrolled": true
   },
   "outputs": [
    {
     "name": "stdout",
     "output_type": "stream",
     "text": [
      "See number of rows and number of columns:\n",
      "(2129755, 22)\n",
      "See colunm names\n",
      "Index(['created_at', 'tweet_id', 'text', 'source', 'favorited', 'retweeted', 'possibly_sensitive', 'lang', 'geo', 'coordinates', 'hashtags', 'urls', 'user_mentions', 'in_reply_to_user_id',\n",
      "       'retweet_count', 'user_id', 'user_name', 'user_location', 'user_followers_count', 'user_friends_count', 'user_created_at', 'user_verified'],\n",
      "      dtype='object')\n"
     ]
    }
   ],
   "source": [
    "print('See number of rows and number of columns:')\n",
    "print(df.shape)\n",
    "print('See colunm names')\n",
    "print(df.columns)"
   ]
  },
  {
   "cell_type": "code",
   "execution_count": 5,
   "metadata": {
    "collapsed": false
   },
   "outputs": [
    {
     "data": {
      "text/html": [
       "<div>\n",
       "<table border=\"1\" class=\"dataframe\">\n",
       "  <thead>\n",
       "    <tr style=\"text-align: right;\">\n",
       "      <th></th>\n",
       "      <th>created_at</th>\n",
       "      <th>tweet_id</th>\n",
       "      <th>text</th>\n",
       "      <th>source</th>\n",
       "      <th>favorited</th>\n",
       "      <th>retweeted</th>\n",
       "      <th>possibly_sensitive</th>\n",
       "      <th>lang</th>\n",
       "      <th>geo</th>\n",
       "      <th>coordinates</th>\n",
       "      <th>hashtags</th>\n",
       "      <th>urls</th>\n",
       "      <th>user_mentions</th>\n",
       "      <th>in_reply_to_user_id</th>\n",
       "      <th>retweet_count</th>\n",
       "      <th>user_id</th>\n",
       "      <th>user_name</th>\n",
       "      <th>user_location</th>\n",
       "      <th>user_followers_count</th>\n",
       "      <th>user_friends_count</th>\n",
       "      <th>user_created_at</th>\n",
       "      <th>user_verified</th>\n",
       "    </tr>\n",
       "  </thead>\n",
       "  <tbody>\n",
       "    <tr>\n",
       "      <th>0</th>\n",
       "      <td>2013-01-28T13:41:54+00:00</td>\n",
       "      <td>295889441355071488</td>\n",
       "      <td>BBC News - Twitter launches Vine micro-video sharing service http://t.co/MykDuEgx</td>\n",
       "      <td>&lt;a href=\"http://twitter.com/tweetbutton\" rel=\"nofollow\"&gt;Tweet Button&lt;/a&gt;</td>\n",
       "      <td>False</td>\n",
       "      <td>False</td>\n",
       "      <td>False</td>\n",
       "      <td>en</td>\n",
       "      <td>None</td>\n",
       "      <td>None</td>\n",
       "      <td>[]</td>\n",
       "      <td>[{'url': 'http://t.co/MykDuEgx', 'indices': [61, 81], 'display_url': 'bbc.in/148Grra', 'expanded...</td>\n",
       "      <td>[]</td>\n",
       "      <td>None</td>\n",
       "      <td>0</td>\n",
       "      <td>632569755</td>\n",
       "      <td>Sherry Edwards</td>\n",
       "      <td>US</td>\n",
       "      <td>8</td>\n",
       "      <td>45</td>\n",
       "      <td>2012-07-11T02:01:19+00:00</td>\n",
       "      <td>False</td>\n",
       "    </tr>\n",
       "    <tr>\n",
       "      <th>1</th>\n",
       "      <td>2013-01-28T13:41:57+00:00</td>\n",
       "      <td>295889452121866241</td>\n",
       "      <td>“Vine” อลวน โป๊ระบาด-เฟซบุ๊กสั่งแบน-ทวิตเตอร์เซ็ง http://t.co/mIo9PO6t</td>\n",
       "      <td>&lt;a href=\"http://www.facebook.com/twitter\" rel=\"nofollow\"&gt;Facebook&lt;/a&gt;</td>\n",
       "      <td>False</td>\n",
       "      <td>False</td>\n",
       "      <td>False</td>\n",
       "      <td>th</td>\n",
       "      <td>None</td>\n",
       "      <td>None</td>\n",
       "      <td>[]</td>\n",
       "      <td>[{'url': 'http://t.co/mIo9PO6t', 'indices': [50, 70], 'display_url': 'manager.co.th/Cyberbiz/Vie...</td>\n",
       "      <td>[]</td>\n",
       "      <td>None</td>\n",
       "      <td>0</td>\n",
       "      <td>94285151</td>\n",
       "      <td>Keng KSPstudio</td>\n",
       "      <td>NaN</td>\n",
       "      <td>165</td>\n",
       "      <td>736</td>\n",
       "      <td>2009-12-03T08:18:58+00:00</td>\n",
       "      <td>False</td>\n",
       "    </tr>\n",
       "    <tr>\n",
       "      <th>2</th>\n",
       "      <td>2013-01-28T13:41:58+00:00</td>\n",
       "      <td>295889454705565696</td>\n",
       "      <td>Really excited for the explosion of 'What does Vine mean for _______?' pieces, which will dodge ...</td>\n",
       "      <td>web</td>\n",
       "      <td>False</td>\n",
       "      <td>False</td>\n",
       "      <td>NaN</td>\n",
       "      <td>en</td>\n",
       "      <td>None</td>\n",
       "      <td>None</td>\n",
       "      <td>[]</td>\n",
       "      <td>[]</td>\n",
       "      <td>[]</td>\n",
       "      <td>None</td>\n",
       "      <td>0</td>\n",
       "      <td>21334099</td>\n",
       "      <td>Ryan Farkas</td>\n",
       "      <td>Toronto</td>\n",
       "      <td>367</td>\n",
       "      <td>841</td>\n",
       "      <td>2009-02-19T20:13:33+00:00</td>\n",
       "      <td>False</td>\n",
       "    </tr>\n",
       "    <tr>\n",
       "      <th>3</th>\n",
       "      <td>2013-01-28T13:41:58+00:00</td>\n",
       "      <td>295889458639802368</td>\n",
       "      <td>It's fun to think about the potential that exists between #vine and those who have DIY #Etsy bus...</td>\n",
       "      <td>web</td>\n",
       "      <td>False</td>\n",
       "      <td>False</td>\n",
       "      <td>NaN</td>\n",
       "      <td>en</td>\n",
       "      <td>None</td>\n",
       "      <td>None</td>\n",
       "      <td>[{'indices': [58, 63], 'text': 'vine'}, {'indices': [87, 92], 'text': 'Etsy'}]</td>\n",
       "      <td>[]</td>\n",
       "      <td>[{'id': 18288876, 'id_str': '18288876', 'screen_name': 'cary_weston', 'name': 'Cary Weston', 'in...</td>\n",
       "      <td>None</td>\n",
       "      <td>0</td>\n",
       "      <td>317935518</td>\n",
       "      <td>Pat Lemieux</td>\n",
       "      <td>Bangor Maine</td>\n",
       "      <td>354</td>\n",
       "      <td>383</td>\n",
       "      <td>2011-06-15T18:14:44+00:00</td>\n",
       "      <td>False</td>\n",
       "    </tr>\n",
       "    <tr>\n",
       "      <th>4</th>\n",
       "      <td>2013-01-28T13:42:01+00:00</td>\n",
       "      <td>295889470333517824</td>\n",
       "      <td>Just Vined Lets You See the Last 20 Videos on Vine http://t.co/5tqQtM92</td>\n",
       "      <td>web</td>\n",
       "      <td>False</td>\n",
       "      <td>False</td>\n",
       "      <td>False</td>\n",
       "      <td>en</td>\n",
       "      <td>None</td>\n",
       "      <td>None</td>\n",
       "      <td>[]</td>\n",
       "      <td>[{'url': 'http://t.co/5tqQtM92', 'indices': [51, 71], 'display_url': 'bit.ly/Vrvb87', 'expanded_...</td>\n",
       "      <td>[]</td>\n",
       "      <td>None</td>\n",
       "      <td>0</td>\n",
       "      <td>736658053</td>\n",
       "      <td>adelineuddbbilo</td>\n",
       "      <td>Tampa</td>\n",
       "      <td>43</td>\n",
       "      <td>99</td>\n",
       "      <td>2012-08-04T12:33:45+00:00</td>\n",
       "      <td>False</td>\n",
       "    </tr>\n",
       "  </tbody>\n",
       "</table>\n",
       "</div>"
      ],
      "text/plain": [
       "                  created_at            tweet_id                                                                                                 text  \\\n",
       "0  2013-01-28T13:41:54+00:00  295889441355071488                    BBC News - Twitter launches Vine micro-video sharing service http://t.co/MykDuEgx   \n",
       "1  2013-01-28T13:41:57+00:00  295889452121866241                               “Vine” อลวน โป๊ระบาด-เฟซบุ๊กสั่งแบน-ทวิตเตอร์เซ็ง http://t.co/mIo9PO6t   \n",
       "2  2013-01-28T13:41:58+00:00  295889454705565696  Really excited for the explosion of 'What does Vine mean for _______?' pieces, which will dodge ...   \n",
       "3  2013-01-28T13:41:58+00:00  295889458639802368  It's fun to think about the potential that exists between #vine and those who have DIY #Etsy bus...   \n",
       "4  2013-01-28T13:42:01+00:00  295889470333517824                              Just Vined Lets You See the Last 20 Videos on Vine http://t.co/5tqQtM92   \n",
       "\n",
       "                                                                     source favorited retweeted possibly_sensitive lang   geo coordinates  \\\n",
       "0  <a href=\"http://twitter.com/tweetbutton\" rel=\"nofollow\">Tweet Button</a>     False     False              False   en  None        None   \n",
       "1     <a href=\"http://www.facebook.com/twitter\" rel=\"nofollow\">Facebook</a>     False     False              False   th  None        None   \n",
       "2                                                                       web     False     False                NaN   en  None        None   \n",
       "3                                                                       web     False     False                NaN   en  None        None   \n",
       "4                                                                       web     False     False              False   en  None        None   \n",
       "\n",
       "                                                                         hashtags                                                                                                 urls  \\\n",
       "0                                                                              []  [{'url': 'http://t.co/MykDuEgx', 'indices': [61, 81], 'display_url': 'bbc.in/148Grra', 'expanded...   \n",
       "1                                                                              []  [{'url': 'http://t.co/mIo9PO6t', 'indices': [50, 70], 'display_url': 'manager.co.th/Cyberbiz/Vie...   \n",
       "2                                                                              []                                                                                                   []   \n",
       "3  [{'indices': [58, 63], 'text': 'vine'}, {'indices': [87, 92], 'text': 'Etsy'}]                                                                                                   []   \n",
       "4                                                                              []  [{'url': 'http://t.co/5tqQtM92', 'indices': [51, 71], 'display_url': 'bit.ly/Vrvb87', 'expanded_...   \n",
       "\n",
       "                                                                                         user_mentions in_reply_to_user_id  retweet_count    user_id        user_name user_location  \\\n",
       "0                                                                                                   []                None              0  632569755   Sherry Edwards            US   \n",
       "1                                                                                                   []                None              0   94285151   Keng KSPstudio           NaN   \n",
       "2                                                                                                   []                None              0   21334099      Ryan Farkas       Toronto   \n",
       "3  [{'id': 18288876, 'id_str': '18288876', 'screen_name': 'cary_weston', 'name': 'Cary Weston', 'in...                None              0  317935518      Pat Lemieux  Bangor Maine   \n",
       "4                                                                                                   []                None              0  736658053  adelineuddbbilo         Tampa   \n",
       "\n",
       "   user_followers_count user_friends_count            user_created_at user_verified  \n",
       "0                     8                 45  2012-07-11T02:01:19+00:00         False  \n",
       "1                   165                736  2009-12-03T08:18:58+00:00         False  \n",
       "2                   367                841  2009-02-19T20:13:33+00:00         False  \n",
       "3                   354                383  2011-06-15T18:14:44+00:00         False  \n",
       "4                    43                 99  2012-08-04T12:33:45+00:00         False  "
      ]
     },
     "execution_count": 5,
     "metadata": {},
     "output_type": "execute_result"
    }
   ],
   "source": [
    "df.head(5)"
   ]
  },
  {
   "cell_type": "code",
   "execution_count": 14,
   "metadata": {
    "collapsed": false
   },
   "outputs": [
    {
     "name": "stdout",
     "output_type": "stream",
     "text": [
      "2129755\n"
     ]
    }
   ],
   "source": [
    "print(len(df))"
   ]
  },
  {
   "cell_type": "markdown",
   "metadata": {},
   "source": [
    "## Questions\n",
    "### How many tweets?"
   ]
  },
  {
   "cell_type": "code",
   "execution_count": 16,
   "metadata": {
    "collapsed": false
   },
   "outputs": [
    {
     "name": "stdout",
     "output_type": "stream",
     "text": [
      "2129755\n"
     ]
    }
   ],
   "source": [
    "df_tweet_ids = df['tweet_id']\n",
    "print(len(df_tweet_ids))"
   ]
  },
  {
   "cell_type": "markdown",
   "metadata": {},
   "source": [
    "### How many unique users?"
   ]
  },
  {
   "cell_type": "code",
   "execution_count": 17,
   "metadata": {
    "collapsed": false
   },
   "outputs": [
    {
     "name": "stdout",
     "output_type": "stream",
     "text": [
      "918911\n"
     ]
    }
   ],
   "source": [
    "df_unique_users = df['user_id'].unique()\n",
    "print(len(df_unique_users))"
   ]
  },
  {
   "cell_type": "markdown",
   "metadata": {},
   "source": [
    "### How many tweets contains more than one URL?"
   ]
  },
  {
   "cell_type": "code",
   "execution_count": 17,
   "metadata": {
    "collapsed": false
   },
   "outputs": [
    {
     "name": "stdout",
     "output_type": "stream",
     "text": [
      "19899\n"
     ]
    }
   ],
   "source": [
    "df_urls = df['text']\n",
    "pattern = 'http'\n",
    "df_urls_http_count = df_urls.str.count(pattern)>1\n",
    "print(sum(df_urls_http_count))"
   ]
  },
  {
   "cell_type": "markdown",
   "metadata": {},
   "source": [
    "### How many tweets are geotagged (have latitude and longitude )?"
   ]
  },
  {
   "cell_type": "code",
   "execution_count": 31,
   "metadata": {
    "collapsed": false
   },
   "outputs": [],
   "source": [
    "df_located = df['geo']\n",
    "df_located_not_none = df_located[df['geo'] != 'None']"
   ]
  },
  {
   "cell_type": "code",
   "execution_count": 34,
   "metadata": {
    "collapsed": true
   },
   "outputs": [],
   "source": [
    "df_coordinates = df['coordinates']\n",
    "df_coordinates_not_none = df_coordinates[df['coordinates'] != 'None']"
   ]
  },
  {
   "cell_type": "code",
   "execution_count": 36,
   "metadata": {
    "collapsed": false
   },
   "outputs": [
    {
     "name": "stdout",
     "output_type": "stream",
     "text": [
      "278         {'type': 'Point', 'coordinates': [-92.94046409, 17.97941167]}\n",
      "334         {'type': 'Point', 'coordinates': [-57.91381975, -34.8577942]}\n",
      "394            {'type': 'Point', 'coordinates': [-75.7945825, 8.8868857]}\n",
      "502           {'type': 'Point', 'coordinates': [-1.4910736, 53.37222354]}\n",
      "652               {'type': 'Point', 'coordinates': [-74.85085, 11.01855]}\n",
      "849           {'type': 'Point', 'coordinates': [2.35649166, 48.88620624]}\n",
      "933               {'type': 'Point', 'coordinates': [-2.127335, 50.76858]}\n",
      "1013           {'type': 'Point', 'coordinates': [-88.2725981, 18.524729]}\n",
      "1167        {'type': 'Point', 'coordinates': [-79.40683419, 43.66800208]}\n",
      "1201                    [{'indices': [112, 125], 'text': 'clubbloggers'}]\n",
      "1586          {'type': 'Point', 'coordinates': [-73.9195615, 40.7006034]}\n",
      "1617          {'type': 'Point', 'coordinates': [-81.4527092, 41.0328845]}\n",
      "1624        {'type': 'Point', 'coordinates': [-73.97874872, 40.72680173]}\n",
      "1634        {'type': 'Point', 'coordinates': [-73.98537061, 40.76261948]}\n",
      "1708         {'type': 'Point', 'coordinates': [-58.3843672, -34.5891179]}\n",
      "1904           {'type': 'Point', 'coordinates': [42.7293456, 43.9098431]}\n",
      "2218         {'type': 'Point', 'coordinates': [-0.11084431, 51.52248565]}\n",
      "2313              {'type': 'Point', 'coordinates': [-92.92618, 18.00257]}\n",
      "2355           {'type': 'Point', 'coordinates': [-103.363365, 20.706771]}\n",
      "2388        {'type': 'Point', 'coordinates': [-80.15653825, 26.28101403]}\n",
      "2444        {'type': 'Point', 'coordinates': [-95.97149782, 36.05127448]}\n",
      "2454         {'type': 'Point', 'coordinates': [24.12365234, 56.95138627]}\n",
      "2675         {'type': 'Point', 'coordinates': [39.16263112, 21.58847837]}\n",
      "2678         {'type': 'Point', 'coordinates': [-0.07527485, 51.54719371]}\n",
      "2685       {'type': 'Point', 'coordinates': [-122.51044929, 37.91689812]}\n",
      "2708        {'type': 'Point', 'coordinates': [-115.09377633, 36.0417821]}\n",
      "2912          {'type': 'Point', 'coordinates': [3.72359594, 51.05981349]}\n",
      "2940          {'type': 'Point', 'coordinates': [4.40310795, 50.85363175]}\n",
      "2957       {'type': 'Point', 'coordinates': [-122.39287546, 37.77860408]}\n",
      "2982         {'type': 'Point', 'coordinates': [-0.14121318, 51.52009541]}\n",
      "                                        ...                              \n",
      "2126376       {'type': 'Point', 'coordinates': [0.34060348, 51.43955292]}\n",
      "2126501       {'type': 'Point', 'coordinates': [-49.197069, -25.5502958]}\n",
      "2126575      {'type': 'Point', 'coordinates': [-49.1970692, -25.5502958]}\n",
      "2126598             {'type': 'Point', 'coordinates': [-2.88424, 54.0633]}\n",
      "2126600        {'type': 'Point', 'coordinates': [-56.016237, -34.836916]}\n",
      "2126615     {'type': 'Point', 'coordinates': [-83.38796371, 33.95217198]}\n",
      "2126629           {'type': 'Point', 'coordinates': [-90.53721, 19.81756]}\n",
      "2126693      {'type': 'Point', 'coordinates': [-54.6377051, -20.4757499]}\n",
      "2126904         {'type': 'Point', 'coordinates': [3.1209487, 41.8874983]}\n",
      "2126954     {'type': 'Point', 'coordinates': [-74.12945631, 40.10644215]}\n",
      "2127036     {'type': 'Point', 'coordinates': [-122.1991532, 47.61840676]}\n",
      "2127047       {'type': 'Point', 'coordinates': [-97.8905953, 36.2794864]}\n",
      "2127325       {'type': 'Point', 'coordinates': [-84.0311554, 9.98045055]}\n",
      "2127574     {'type': 'Point', 'coordinates': [-97.85382668, 22.23567076]}\n",
      "2127705           {'type': 'Point', 'coordinates': [-93.14923, 17.97847]}\n",
      "2127935     {'type': 'Point', 'coordinates': [-71.10107141, 42.34314894]}\n",
      "2128051     {'type': 'Point', 'coordinates': [-89.82311084, 30.31294294]}\n",
      "2128197    {'type': 'Point', 'coordinates': [-117.82894736, 34.12843784]}\n",
      "2128230      {'type': 'Point', 'coordinates': [-73.9746758, 40.75362352]}\n",
      "2128538    {'type': 'Point', 'coordinates': [-100.41037482, 20.59449847]}\n",
      "2128644    {'type': 'Point', 'coordinates': [-70.62855857, -33.43451988]}\n",
      "2128648      {'type': 'Point', 'coordinates': [-1.18936403, 50.80180166]}\n",
      "2128866     {'type': 'Point', 'coordinates': [-76.97058723, -12.0856061]}\n",
      "2129048     {'type': 'Point', 'coordinates': [-79.30522299, 43.72113092]}\n",
      "2129320     {'type': 'Point', 'coordinates': [-103.3976984, 20.65732166]}\n",
      "2129345    {'type': 'Point', 'coordinates': [-118.32719164, 34.09876928]}\n",
      "2129474    {'type': 'Point', 'coordinates': [-55.95072412, -27.41878283]}\n",
      "2129626     {'type': 'Point', 'coordinates': [-118.4315246, 34.02853761]}\n",
      "2129711        {'type': 'Point', 'coordinates': [-76.3022341, 3.5435694]}\n",
      "2129733     {'type': 'Point', 'coordinates': [-99.16868484, 20.42219821]}\n",
      "Name: coordinates, dtype: object\n"
     ]
    }
   ],
   "source": [
    "print(df_coordinates_not_none)"
   ]
  },
  {
   "cell_type": "code",
   "execution_count": 32,
   "metadata": {
    "collapsed": false
   },
   "outputs": [
    {
     "name": "stdout",
     "output_type": "stream",
     "text": [
      "278         {'type': 'Point', 'coordinates': [17.97941167, -92.94046409]}\n",
      "334         {'type': 'Point', 'coordinates': [-34.8577942, -57.91381975]}\n",
      "394            {'type': 'Point', 'coordinates': [8.8868857, -75.7945825]}\n",
      "502           {'type': 'Point', 'coordinates': [53.37222354, -1.4910736]}\n",
      "652               {'type': 'Point', 'coordinates': [11.01855, -74.85085]}\n",
      "849           {'type': 'Point', 'coordinates': [48.88620624, 2.35649166]}\n",
      "933               {'type': 'Point', 'coordinates': [50.76858, -2.127335]}\n",
      "1013           {'type': 'Point', 'coordinates': [18.524729, -88.2725981]}\n",
      "1167        {'type': 'Point', 'coordinates': [43.66800208, -79.40683419]}\n",
      "1586          {'type': 'Point', 'coordinates': [40.7006034, -73.9195615]}\n",
      "1617          {'type': 'Point', 'coordinates': [41.0328845, -81.4527092]}\n",
      "1624        {'type': 'Point', 'coordinates': [40.72680173, -73.97874872]}\n",
      "1634        {'type': 'Point', 'coordinates': [40.76261948, -73.98537061]}\n",
      "1708         {'type': 'Point', 'coordinates': [-34.5891179, -58.3843672]}\n",
      "1904           {'type': 'Point', 'coordinates': [43.9098431, 42.7293456]}\n",
      "2218         {'type': 'Point', 'coordinates': [51.52248565, -0.11084431]}\n",
      "2313              {'type': 'Point', 'coordinates': [18.00257, -92.92618]}\n",
      "2355           {'type': 'Point', 'coordinates': [20.706771, -103.363365]}\n",
      "2388        {'type': 'Point', 'coordinates': [26.28101403, -80.15653825]}\n",
      "2444        {'type': 'Point', 'coordinates': [36.05127448, -95.97149782]}\n",
      "2454         {'type': 'Point', 'coordinates': [56.95138627, 24.12365234]}\n",
      "2675         {'type': 'Point', 'coordinates': [21.58847837, 39.16263112]}\n",
      "2678         {'type': 'Point', 'coordinates': [51.54719371, -0.07527485]}\n",
      "2685       {'type': 'Point', 'coordinates': [37.91689812, -122.51044929]}\n",
      "2708        {'type': 'Point', 'coordinates': [36.0417821, -115.09377633]}\n",
      "2912          {'type': 'Point', 'coordinates': [51.05981349, 3.72359594]}\n",
      "2940          {'type': 'Point', 'coordinates': [50.85363175, 4.40310795]}\n",
      "2957       {'type': 'Point', 'coordinates': [37.77860408, -122.39287546]}\n",
      "2982         {'type': 'Point', 'coordinates': [51.52009541, -0.14121318]}\n",
      "3012          {'type': 'Point', 'coordinates': [50.85365777, 4.40319479]}\n",
      "                                        ...                              \n",
      "2126376       {'type': 'Point', 'coordinates': [51.43955292, 0.34060348]}\n",
      "2126501       {'type': 'Point', 'coordinates': [-25.5502958, -49.197069]}\n",
      "2126575      {'type': 'Point', 'coordinates': [-25.5502958, -49.1970692]}\n",
      "2126598             {'type': 'Point', 'coordinates': [54.0633, -2.88424]}\n",
      "2126600        {'type': 'Point', 'coordinates': [-34.836916, -56.016237]}\n",
      "2126615     {'type': 'Point', 'coordinates': [33.95217198, -83.38796371]}\n",
      "2126629           {'type': 'Point', 'coordinates': [19.81756, -90.53721]}\n",
      "2126693      {'type': 'Point', 'coordinates': [-20.4757499, -54.6377051]}\n",
      "2126904         {'type': 'Point', 'coordinates': [41.8874983, 3.1209487]}\n",
      "2126954     {'type': 'Point', 'coordinates': [40.10644215, -74.12945631]}\n",
      "2127036     {'type': 'Point', 'coordinates': [47.61840676, -122.1991532]}\n",
      "2127047       {'type': 'Point', 'coordinates': [36.2794864, -97.8905953]}\n",
      "2127325       {'type': 'Point', 'coordinates': [9.98045055, -84.0311554]}\n",
      "2127574     {'type': 'Point', 'coordinates': [22.23567076, -97.85382668]}\n",
      "2127705           {'type': 'Point', 'coordinates': [17.97847, -93.14923]}\n",
      "2127935     {'type': 'Point', 'coordinates': [42.34314894, -71.10107141]}\n",
      "2128051     {'type': 'Point', 'coordinates': [30.31294294, -89.82311084]}\n",
      "2128197    {'type': 'Point', 'coordinates': [34.12843784, -117.82894736]}\n",
      "2128230      {'type': 'Point', 'coordinates': [40.75362352, -73.9746758]}\n",
      "2128538    {'type': 'Point', 'coordinates': [20.59449847, -100.41037482]}\n",
      "2128644    {'type': 'Point', 'coordinates': [-33.43451988, -70.62855857]}\n",
      "2128648      {'type': 'Point', 'coordinates': [50.80180166, -1.18936403]}\n",
      "2128866     {'type': 'Point', 'coordinates': [-12.0856061, -76.97058723]}\n",
      "2129048     {'type': 'Point', 'coordinates': [43.72113092, -79.30522299]}\n",
      "2129320     {'type': 'Point', 'coordinates': [20.65732166, -103.3976984]}\n",
      "2129345    {'type': 'Point', 'coordinates': [34.09876928, -118.32719164]}\n",
      "2129474    {'type': 'Point', 'coordinates': [-27.41878283, -55.95072412]}\n",
      "2129626     {'type': 'Point', 'coordinates': [34.02853761, -118.4315246]}\n",
      "2129711        {'type': 'Point', 'coordinates': [3.5435694, -76.3022341]}\n",
      "2129733     {'type': 'Point', 'coordinates': [20.42219821, -99.16868484]}\n",
      "Name: geo, dtype: object\n"
     ]
    }
   ],
   "source": [
    "print(df_located_not_none)"
   ]
  },
  {
   "cell_type": "code",
   "execution_count": 41,
   "metadata": {
    "collapsed": false
   },
   "outputs": [],
   "source": [
    "df_located_tweets = df_coordinates_not_none + df_located_not_none"
   ]
  },
  {
   "cell_type": "code",
   "execution_count": 44,
   "metadata": {
    "collapsed": false
   },
   "outputs": [
    {
     "name": "stdout",
     "output_type": "stream",
     "text": [
      "15978\n"
     ]
    }
   ],
   "source": [
    "print(len(df_located_tweets))"
   ]
  },
  {
   "cell_type": "markdown",
   "metadata": {},
   "source": [
    "### How many tweets are original (e.g., not retweets)?"
   ]
  },
  {
   "cell_type": "code",
   "execution_count": 27,
   "metadata": {
    "collapsed": false
   },
   "outputs": [],
   "source": [
    "df_tweets = df['text']\n",
    "df_original_tweets = df[~df_tweets.str.contains(\"RT\", na=False)]"
   ]
  },
  {
   "cell_type": "code",
   "execution_count": 28,
   "metadata": {
    "collapsed": false
   },
   "outputs": [
    {
     "name": "stdout",
     "output_type": "stream",
     "text": [
      "1598034\n"
     ]
    }
   ],
   "source": [
    "print(len(df_original_tweets))"
   ]
  },
  {
   "cell_type": "markdown",
   "metadata": {},
   "source": [
    "### How many tweets for each day? In average?"
   ]
  },
  {
   "cell_type": "code",
   "execution_count": 54,
   "metadata": {
    "collapsed": false
   },
   "outputs": [
    {
     "ename": "AttributeError",
     "evalue": "'Series' object has no attribute 'to_datetime'",
     "output_type": "error",
     "traceback": [
      "\u001b[0;31m---------------------------------------------------------------------------\u001b[0m",
      "\u001b[0;31mAttributeError\u001b[0m                            Traceback (most recent call last)",
      "\u001b[0;32m<ipython-input-54-f5d3f1b449a6>\u001b[0m in \u001b[0;36m<module>\u001b[0;34m()\u001b[0m\n\u001b[1;32m      1\u001b[0m \u001b[0mdf_tweets_date\u001b[0m \u001b[0;34m=\u001b[0m \u001b[0mdf\u001b[0m\u001b[0;34m[\u001b[0m\u001b[0;34m'created_at'\u001b[0m\u001b[0;34m]\u001b[0m\u001b[0;34m\u001b[0m\u001b[0m\n\u001b[0;32m----> 2\u001b[0;31m \u001b[0mdf_tweets_date\u001b[0m\u001b[0;34m.\u001b[0m\u001b[0mto_datetime\u001b[0m\u001b[0;34m\u001b[0m\u001b[0m\n\u001b[0m",
      "\u001b[0;32m/Users/verologu/anaconda/lib/python3.5/site-packages/pandas/core/generic.py\u001b[0m in \u001b[0;36m__getattr__\u001b[0;34m(self, name)\u001b[0m\n\u001b[1;32m   2358\u001b[0m                 \u001b[0;32mreturn\u001b[0m \u001b[0mself\u001b[0m\u001b[0;34m[\u001b[0m\u001b[0mname\u001b[0m\u001b[0;34m]\u001b[0m\u001b[0;34m\u001b[0m\u001b[0m\n\u001b[1;32m   2359\u001b[0m             raise AttributeError(\"'%s' object has no attribute '%s'\" %\n\u001b[0;32m-> 2360\u001b[0;31m                                  (type(self).__name__, name))\n\u001b[0m\u001b[1;32m   2361\u001b[0m \u001b[0;34m\u001b[0m\u001b[0m\n\u001b[1;32m   2362\u001b[0m     \u001b[0;32mdef\u001b[0m \u001b[0m__setattr__\u001b[0m\u001b[0;34m(\u001b[0m\u001b[0mself\u001b[0m\u001b[0;34m,\u001b[0m \u001b[0mname\u001b[0m\u001b[0;34m,\u001b[0m \u001b[0mvalue\u001b[0m\u001b[0;34m)\u001b[0m\u001b[0;34m:\u001b[0m\u001b[0;34m\u001b[0m\u001b[0m\n",
      "\u001b[0;31mAttributeError\u001b[0m: 'Series' object has no attribute 'to_datetime'"
     ]
    }
   ],
   "source": [
    "df_tweets_date = df['created_at']\n",
    "df_tweets_date.to_datetime\n"
   ]
  },
  {
   "cell_type": "markdown",
   "metadata": {},
   "source": [
    "### Day of the week with highest volume of traffic?"
   ]
  },
  {
   "cell_type": "code",
   "execution_count": null,
   "metadata": {
    "collapsed": true
   },
   "outputs": [],
   "source": []
  },
  {
   "cell_type": "markdown",
   "metadata": {},
   "source": [
    "### Which are the most popular user_location ?"
   ]
  },
  {
   "cell_type": "code",
   "execution_count": 26,
   "metadata": {
    "collapsed": false,
    "scrolled": true
   },
   "outputs": [],
   "source": [
    "df_popular_location = pd.DataFrame(df.groupby('user_location').sum())"
   ]
  },
  {
   "cell_type": "code",
   "execution_count": 23,
   "metadata": {
    "collapsed": false
   },
   "outputs": [
    {
     "data": {
      "text/html": [
       "<div>\n",
       "<table border=\"1\" class=\"dataframe\">\n",
       "  <thead>\n",
       "    <tr style=\"text-align: right;\">\n",
       "      <th></th>\n",
       "      <th>tweet_id</th>\n",
       "      <th>favorited</th>\n",
       "      <th>retweet_count</th>\n",
       "      <th>user_followers_count</th>\n",
       "    </tr>\n",
       "    <tr>\n",
       "      <th>user_location</th>\n",
       "      <th></th>\n",
       "      <th></th>\n",
       "      <th></th>\n",
       "      <th></th>\n",
       "    </tr>\n",
       "  </thead>\n",
       "  <tbody>\n",
       "    <tr>\n",
       "      <th>New York, NY</th>\n",
       "      <td>3.637141e+21</td>\n",
       "      <td>False</td>\n",
       "      <td>0</td>\n",
       "      <td>340054545</td>\n",
       "    </tr>\n",
       "    <tr>\n",
       "      <th>San Francisco</th>\n",
       "      <td>2.665533e+21</td>\n",
       "      <td>False</td>\n",
       "      <td>0</td>\n",
       "      <td>212790679</td>\n",
       "    </tr>\n",
       "    <tr>\n",
       "      <th>Los Angeles</th>\n",
       "      <td>3.385367e+21</td>\n",
       "      <td>False</td>\n",
       "      <td>0</td>\n",
       "      <td>208710892</td>\n",
       "    </tr>\n",
       "    <tr>\n",
       "      <th>London</th>\n",
       "      <td>6.388056e+21</td>\n",
       "      <td>False</td>\n",
       "      <td>0</td>\n",
       "      <td>194814289</td>\n",
       "    </tr>\n",
       "    <tr>\n",
       "      <th>NYC</th>\n",
       "      <td>2.767813e+21</td>\n",
       "      <td>False</td>\n",
       "      <td>0</td>\n",
       "      <td>135688895</td>\n",
       "    </tr>\n",
       "    <tr>\n",
       "      <th>New York City</th>\n",
       "      <td>2.619944e+21</td>\n",
       "      <td>False</td>\n",
       "      <td>0</td>\n",
       "      <td>123054710</td>\n",
       "    </tr>\n",
       "    <tr>\n",
       "      <th>NYC / SF</th>\n",
       "      <td>1.826820e+19</td>\n",
       "      <td>False</td>\n",
       "      <td>0</td>\n",
       "      <td>122878507</td>\n",
       "    </tr>\n",
       "    <tr>\n",
       "      <th>USA - BRAZIL</th>\n",
       "      <td>1.132433e+19</td>\n",
       "      <td>False</td>\n",
       "      <td>0</td>\n",
       "      <td>108828861</td>\n",
       "    </tr>\n",
       "    <tr>\n",
       "      <th>New York, New York</th>\n",
       "      <td>5.025782e+20</td>\n",
       "      <td>False</td>\n",
       "      <td>0</td>\n",
       "      <td>91675534</td>\n",
       "    </tr>\n",
       "    <tr>\n",
       "      <th>Los Angeles, CA</th>\n",
       "      <td>2.848157e+21</td>\n",
       "      <td>False</td>\n",
       "      <td>0</td>\n",
       "      <td>88695575</td>\n",
       "    </tr>\n",
       "    <tr>\n",
       "      <th>New York</th>\n",
       "      <td>3.277469e+21</td>\n",
       "      <td>False</td>\n",
       "      <td>0</td>\n",
       "      <td>63742041</td>\n",
       "    </tr>\n",
       "    <tr>\n",
       "      <th>San Francisco, CA</th>\n",
       "      <td>2.418839e+21</td>\n",
       "      <td>False</td>\n",
       "      <td>0</td>\n",
       "      <td>61203540</td>\n",
       "    </tr>\n",
       "    <tr>\n",
       "      <th>Twitter HQ</th>\n",
       "      <td>9.286306e+18</td>\n",
       "      <td>False</td>\n",
       "      <td>0</td>\n",
       "      <td>57458930</td>\n",
       "    </tr>\n",
       "    <tr>\n",
       "      <th>Venezuela</th>\n",
       "      <td>1.038744e+21</td>\n",
       "      <td>False</td>\n",
       "      <td>0</td>\n",
       "      <td>55385144</td>\n",
       "    </tr>\n",
       "    <tr>\n",
       "      <th>USA</th>\n",
       "      <td>1.421279e+21</td>\n",
       "      <td>False</td>\n",
       "      <td>0</td>\n",
       "      <td>49436492</td>\n",
       "    </tr>\n",
       "    <tr>\n",
       "      <th>San Francisco/New York</th>\n",
       "      <td>7.533947e+18</td>\n",
       "      <td>False</td>\n",
       "      <td>0</td>\n",
       "      <td>43765933</td>\n",
       "    </tr>\n",
       "    <tr>\n",
       "      <th>London, UK</th>\n",
       "      <td>1.368177e+21</td>\n",
       "      <td>False</td>\n",
       "      <td>0</td>\n",
       "      <td>39921817</td>\n",
       "    </tr>\n",
       "    <tr>\n",
       "      <th>Brooklyn, NY</th>\n",
       "      <td>2.351621e+21</td>\n",
       "      <td>False</td>\n",
       "      <td>0</td>\n",
       "      <td>38183790</td>\n",
       "    </tr>\n",
       "    <tr>\n",
       "      <th>Back Of A Phantom</th>\n",
       "      <td>1.148733e+19</td>\n",
       "      <td>False</td>\n",
       "      <td>0</td>\n",
       "      <td>35689942</td>\n",
       "    </tr>\n",
       "    <tr>\n",
       "      <th>London/Los Angeles</th>\n",
       "      <td>4.228603e+18</td>\n",
       "      <td>False</td>\n",
       "      <td>0</td>\n",
       "      <td>33887979</td>\n",
       "    </tr>\n",
       "    <tr>\n",
       "      <th>Boston, MA</th>\n",
       "      <td>1.328830e+21</td>\n",
       "      <td>False</td>\n",
       "      <td>0</td>\n",
       "      <td>29547622</td>\n",
       "    </tr>\n",
       "    <tr>\n",
       "      <th>Paris</th>\n",
       "      <td>1.852317e+21</td>\n",
       "      <td>False</td>\n",
       "      <td>0</td>\n",
       "      <td>28957044</td>\n",
       "    </tr>\n",
       "    <tr>\n",
       "      <th>Silicon Valley</th>\n",
       "      <td>1.114000e+20</td>\n",
       "      <td>False</td>\n",
       "      <td>0</td>\n",
       "      <td>28090395</td>\n",
       "    </tr>\n",
       "    <tr>\n",
       "      <th>Chicago, IL</th>\n",
       "      <td>1.894395e+21</td>\n",
       "      <td>False</td>\n",
       "      <td>0</td>\n",
       "      <td>28000746</td>\n",
       "    </tr>\n",
       "    <tr>\n",
       "      <th>http://bit.ly/marsstore</th>\n",
       "      <td>7.829723e+18</td>\n",
       "      <td>False</td>\n",
       "      <td>0</td>\n",
       "      <td>24990842</td>\n",
       "    </tr>\n",
       "    <tr>\n",
       "      <th>Everywhere</th>\n",
       "      <td>4.545821e+20</td>\n",
       "      <td>False</td>\n",
       "      <td>0</td>\n",
       "      <td>24374534</td>\n",
       "    </tr>\n",
       "    <tr>\n",
       "      <th>Washington, DC</th>\n",
       "      <td>1.106058e+21</td>\n",
       "      <td>False</td>\n",
       "      <td>0</td>\n",
       "      <td>23795700</td>\n",
       "    </tr>\n",
       "    <tr>\n",
       "      <th>Studio 1A</th>\n",
       "      <td>4.513846e+18</td>\n",
       "      <td>False</td>\n",
       "      <td>0</td>\n",
       "      <td>23745742</td>\n",
       "    </tr>\n",
       "    <tr>\n",
       "      <th>Body? L.A. Mind? N.J.</th>\n",
       "      <td>3.009266e+18</td>\n",
       "      <td>False</td>\n",
       "      <td>0</td>\n",
       "      <td>23202098</td>\n",
       "    </tr>\n",
       "    <tr>\n",
       "      <th>London, England</th>\n",
       "      <td>2.884087e+20</td>\n",
       "      <td>False</td>\n",
       "      <td>0</td>\n",
       "      <td>23123847</td>\n",
       "    </tr>\n",
       "    <tr>\n",
       "      <th>...</th>\n",
       "      <td>...</td>\n",
       "      <td>...</td>\n",
       "      <td>...</td>\n",
       "      <td>...</td>\n",
       "    </tr>\n",
       "    <tr>\n",
       "      <th>Con los pies sobre la tierra</th>\n",
       "      <td>2.975760e+17</td>\n",
       "      <td>False</td>\n",
       "      <td>0</td>\n",
       "      <td>0</td>\n",
       "    </tr>\n",
       "    <tr>\n",
       "      <th>LONDON  MUNICH PARIS</th>\n",
       "      <td>2.999318e+17</td>\n",
       "      <td>False</td>\n",
       "      <td>0</td>\n",
       "      <td>0</td>\n",
       "    </tr>\n",
       "    <tr>\n",
       "      <th>burnettown, sc, usa</th>\n",
       "      <td>3.028634e+17</td>\n",
       "      <td>False</td>\n",
       "      <td>0</td>\n",
       "      <td>0</td>\n",
       "    </tr>\n",
       "    <tr>\n",
       "      <th>Río, Salamanca</th>\n",
       "      <td>2.972888e+17</td>\n",
       "      <td>False</td>\n",
       "      <td>0</td>\n",
       "      <td>0</td>\n",
       "    </tr>\n",
       "    <tr>\n",
       "      <th>Collecchio Parma</th>\n",
       "      <td>5.926013e+17</td>\n",
       "      <td>False</td>\n",
       "      <td>0</td>\n",
       "      <td>0</td>\n",
       "    </tr>\n",
       "    <tr>\n",
       "      <th>La Guajira-Colombia</th>\n",
       "      <td>2.959788e+17</td>\n",
       "      <td>False</td>\n",
       "      <td>0</td>\n",
       "      <td>0</td>\n",
       "    </tr>\n",
       "    <tr>\n",
       "      <th>Wolverhampton, UK</th>\n",
       "      <td>3.046286e+17</td>\n",
       "      <td>False</td>\n",
       "      <td>0</td>\n",
       "      <td>0</td>\n",
       "    </tr>\n",
       "    <tr>\n",
       "      <th>Anderson,CA</th>\n",
       "      <td>2.964074e+17</td>\n",
       "      <td>False</td>\n",
       "      <td>0</td>\n",
       "      <td>0</td>\n",
       "    </tr>\n",
       "    <tr>\n",
       "      <th>RoTand</th>\n",
       "      <td>2.994602e+17</td>\n",
       "      <td>False</td>\n",
       "      <td>0</td>\n",
       "      <td>0</td>\n",
       "    </tr>\n",
       "    <tr>\n",
       "      <th>#Sharjah ♥</th>\n",
       "      <td>2.995536e+17</td>\n",
       "      <td>False</td>\n",
       "      <td>0</td>\n",
       "      <td>0</td>\n",
       "    </tr>\n",
       "    <tr>\n",
       "      <th>The Walk of Shame</th>\n",
       "      <td>3.015539e+17</td>\n",
       "      <td>False</td>\n",
       "      <td>0</td>\n",
       "      <td>0</td>\n",
       "    </tr>\n",
       "    <tr>\n",
       "      <th>Culpeper, United States</th>\n",
       "      <td>3.028487e+17</td>\n",
       "      <td>False</td>\n",
       "      <td>0</td>\n",
       "      <td>0</td>\n",
       "    </tr>\n",
       "    <tr>\n",
       "      <th>Davao city</th>\n",
       "      <td>3.044464e+17</td>\n",
       "      <td>False</td>\n",
       "      <td>0</td>\n",
       "      <td>0</td>\n",
       "    </tr>\n",
       "    <tr>\n",
       "      <th>Dat Delta, in da Shwampsz,brah</th>\n",
       "      <td>2.967427e+17</td>\n",
       "      <td>False</td>\n",
       "      <td>0</td>\n",
       "      <td>0</td>\n",
       "    </tr>\n",
       "    <tr>\n",
       "      <th>Dans la campagne de Strasbourg</th>\n",
       "      <td>2.967326e+17</td>\n",
       "      <td>False</td>\n",
       "      <td>0</td>\n",
       "      <td>0</td>\n",
       "    </tr>\n",
       "    <tr>\n",
       "      <th>Merodeando tu cabeza.</th>\n",
       "      <td>3.033058e+17</td>\n",
       "      <td>False</td>\n",
       "      <td>0</td>\n",
       "      <td>0</td>\n",
       "    </tr>\n",
       "    <tr>\n",
       "      <th>with my hyungs &amp; unnies</th>\n",
       "      <td>3.042426e+17</td>\n",
       "      <td>False</td>\n",
       "      <td>0</td>\n",
       "      <td>0</td>\n",
       "    </tr>\n",
       "    <tr>\n",
       "      <th>Verdun</th>\n",
       "      <td>3.047514e+17</td>\n",
       "      <td>False</td>\n",
       "      <td>0</td>\n",
       "      <td>0</td>\n",
       "    </tr>\n",
       "    <tr>\n",
       "      <th>Vernon</th>\n",
       "      <td>8.916972e+17</td>\n",
       "      <td>False</td>\n",
       "      <td>0</td>\n",
       "      <td>0</td>\n",
       "    </tr>\n",
       "    <tr>\n",
       "      <th>miles city, ia, usa</th>\n",
       "      <td>3.028620e+17</td>\n",
       "      <td>False</td>\n",
       "      <td>0</td>\n",
       "      <td>0</td>\n",
       "    </tr>\n",
       "    <tr>\n",
       "      <th>All over the Internet!</th>\n",
       "      <td>3.014004e+17</td>\n",
       "      <td>False</td>\n",
       "      <td>0</td>\n",
       "      <td>0</td>\n",
       "    </tr>\n",
       "    <tr>\n",
       "      <th>DET,MI</th>\n",
       "      <td>3.053361e+17</td>\n",
       "      <td>False</td>\n",
       "      <td>0</td>\n",
       "      <td>0</td>\n",
       "    </tr>\n",
       "    <tr>\n",
       "      <th>worcs uk</th>\n",
       "      <td>3.011015e+17</td>\n",
       "      <td>False</td>\n",
       "      <td>0</td>\n",
       "      <td>0</td>\n",
       "    </tr>\n",
       "    <tr>\n",
       "      <th>DEC</th>\n",
       "      <td>2.995711e+17</td>\n",
       "      <td>False</td>\n",
       "      <td>0</td>\n",
       "      <td>0</td>\n",
       "    </tr>\n",
       "    <tr>\n",
       "      <th>Allahabad</th>\n",
       "      <td>3.023240e+17</td>\n",
       "      <td>False</td>\n",
       "      <td>0</td>\n",
       "      <td>0</td>\n",
       "    </tr>\n",
       "    <tr>\n",
       "      <th>wunjunga</th>\n",
       "      <td>2.964909e+17</td>\n",
       "      <td>False</td>\n",
       "      <td>0</td>\n",
       "      <td>0</td>\n",
       "    </tr>\n",
       "    <tr>\n",
       "      <th>casablanca morocco</th>\n",
       "      <td>2.994103e+17</td>\n",
       "      <td>False</td>\n",
       "      <td>0</td>\n",
       "      <td>0</td>\n",
       "    </tr>\n",
       "    <tr>\n",
       "      <th>iklan/promote: 089688694628</th>\n",
       "      <td>2.994537e+17</td>\n",
       "      <td>False</td>\n",
       "      <td>0</td>\n",
       "      <td>0</td>\n",
       "    </tr>\n",
       "    <tr>\n",
       "      <th>Rio de janeiiro</th>\n",
       "      <td>3.045315e+17</td>\n",
       "      <td>False</td>\n",
       "      <td>0</td>\n",
       "      <td>0</td>\n",
       "    </tr>\n",
       "    <tr>\n",
       "      <th>Doboj, B&amp;H</th>\n",
       "      <td>2.977913e+17</td>\n",
       "      <td>False</td>\n",
       "      <td>0</td>\n",
       "      <td>0</td>\n",
       "    </tr>\n",
       "  </tbody>\n",
       "</table>\n",
       "<p>261245 rows × 4 columns</p>\n",
       "</div>"
      ],
      "text/plain": [
       "                                    tweet_id favorited  retweet_count  user_followers_count\n",
       "user_location                                                                              \n",
       "New York, NY                    3.637141e+21     False              0             340054545\n",
       "San Francisco                   2.665533e+21     False              0             212790679\n",
       "Los Angeles                     3.385367e+21     False              0             208710892\n",
       "London                          6.388056e+21     False              0             194814289\n",
       "NYC                             2.767813e+21     False              0             135688895\n",
       "New York City                   2.619944e+21     False              0             123054710\n",
       "NYC / SF                        1.826820e+19     False              0             122878507\n",
       "USA - BRAZIL                    1.132433e+19     False              0             108828861\n",
       "New York, New York              5.025782e+20     False              0              91675534\n",
       "Los Angeles, CA                 2.848157e+21     False              0              88695575\n",
       "New York                        3.277469e+21     False              0              63742041\n",
       "San Francisco, CA               2.418839e+21     False              0              61203540\n",
       "Twitter HQ                      9.286306e+18     False              0              57458930\n",
       "Venezuela                       1.038744e+21     False              0              55385144\n",
       "USA                             1.421279e+21     False              0              49436492\n",
       "San Francisco/New York          7.533947e+18     False              0              43765933\n",
       "London, UK                      1.368177e+21     False              0              39921817\n",
       "Brooklyn, NY                    2.351621e+21     False              0              38183790\n",
       " Back Of A Phantom              1.148733e+19     False              0              35689942\n",
       "London/Los Angeles              4.228603e+18     False              0              33887979\n",
       "Boston, MA                      1.328830e+21     False              0              29547622\n",
       "Paris                           1.852317e+21     False              0              28957044\n",
       "Silicon Valley                  1.114000e+20     False              0              28090395\n",
       "Chicago, IL                     1.894395e+21     False              0              28000746\n",
       "http://bit.ly/marsstore         7.829723e+18     False              0              24990842\n",
       "Everywhere                      4.545821e+20     False              0              24374534\n",
       "Washington, DC                  1.106058e+21     False              0              23795700\n",
       "Studio 1A                       4.513846e+18     False              0              23745742\n",
       "Body? L.A. Mind? N.J.           3.009266e+18     False              0              23202098\n",
       "London, England                 2.884087e+20     False              0              23123847\n",
       "...                                      ...       ...            ...                   ...\n",
       "Con los pies sobre la tierra    2.975760e+17     False              0                     0\n",
       "LONDON  MUNICH PARIS            2.999318e+17     False              0                     0\n",
       "burnettown, sc, usa             3.028634e+17     False              0                     0\n",
       "Río, Salamanca                  2.972888e+17     False              0                     0\n",
       "Collecchio Parma                5.926013e+17     False              0                     0\n",
       "La Guajira-Colombia             2.959788e+17     False              0                     0\n",
       "Wolverhampton, UK               3.046286e+17     False              0                     0\n",
       "Anderson,CA                     2.964074e+17     False              0                     0\n",
       "RoTand                          2.994602e+17     False              0                     0\n",
       "#Sharjah ♥                      2.995536e+17     False              0                     0\n",
       "The Walk of Shame               3.015539e+17     False              0                     0\n",
       "Culpeper, United States         3.028487e+17     False              0                     0\n",
       "Davao city                      3.044464e+17     False              0                     0\n",
       "Dat Delta, in da Shwampsz,brah  2.967427e+17     False              0                     0\n",
       "Dans la campagne de Strasbourg  2.967326e+17     False              0                     0\n",
       "Merodeando tu cabeza.           3.033058e+17     False              0                     0\n",
       "with my hyungs & unnies         3.042426e+17     False              0                     0\n",
       "Verdun                          3.047514e+17     False              0                     0\n",
       "Vernon                          8.916972e+17     False              0                     0\n",
       "miles city, ia, usa             3.028620e+17     False              0                     0\n",
       "All over the Internet!          3.014004e+17     False              0                     0\n",
       "DET,MI                          3.053361e+17     False              0                     0\n",
       "worcs uk                        3.011015e+17     False              0                     0\n",
       "DEC                             2.995711e+17     False              0                     0\n",
       "Allahabad                       3.023240e+17     False              0                     0\n",
       "wunjunga                        2.964909e+17     False              0                     0\n",
       "casablanca morocco              2.994103e+17     False              0                     0\n",
       "iklan/promote: 089688694628     2.994537e+17     False              0                     0\n",
       "Rio de janeiiro                 3.045315e+17     False              0                     0\n",
       "Doboj, B&H                      2.977913e+17     False              0                     0\n",
       "\n",
       "[261245 rows x 4 columns]"
      ]
     },
     "execution_count": 23,
     "metadata": {},
     "output_type": "execute_result"
    }
   ],
   "source": [
    "df_popular_location.sort('user_followers_count', ascending=False)"
   ]
  },
  {
   "cell_type": "code",
   "execution_count": 24,
   "metadata": {
    "collapsed": true
   },
   "outputs": [],
   "source": [
    "max_followers_id_max = df_popular_location['user_followers_count'].idxmax()"
   ]
  },
  {
   "cell_type": "code",
   "execution_count": 25,
   "metadata": {
    "collapsed": false
   },
   "outputs": [
    {
     "name": "stdout",
     "output_type": "stream",
     "text": [
      "New York, NY\n"
     ]
    }
   ],
   "source": [
    "print(max_followers_id_max)"
   ]
  },
  {
   "cell_type": "markdown",
   "metadata": {},
   "source": [
    "### Which are the most popular hashtags?"
   ]
  },
  {
   "cell_type": "code",
   "execution_count": null,
   "metadata": {
    "collapsed": true
   },
   "outputs": [],
   "source": []
  }
 ],
 "metadata": {
  "kernelspec": {
   "display_name": "Python 3",
   "language": "python",
   "name": "python3"
  },
  "language_info": {
   "codemirror_mode": {
    "name": "ipython",
    "version": 3
   },
   "file_extension": ".py",
   "mimetype": "text/x-python",
   "name": "python",
   "nbconvert_exporter": "python",
   "pygments_lexer": "ipython3",
   "version": "3.5.1"
  }
 },
 "nbformat": 4,
 "nbformat_minor": 0
}

